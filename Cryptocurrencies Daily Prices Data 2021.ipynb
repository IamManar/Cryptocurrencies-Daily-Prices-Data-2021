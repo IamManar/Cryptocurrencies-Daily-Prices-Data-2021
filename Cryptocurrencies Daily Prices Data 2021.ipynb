{
 "cells": [
  {
   "cell_type": "markdown",
   "metadata": {},
   "source": [
    "# Cryptocurrencies Daily Prices Data 2021"
   ]
  },
  {
   "cell_type": "markdown",
   "metadata": {},
   "source": [
    "### 1 - Importing Libraries"
   ]
  },
  {
   "cell_type": "code",
   "execution_count": null,
   "metadata": {},
   "outputs": [],
   "source": [
    "import requests\n",
    "import pandas as pd\n",
    "import io\n",
    "import json\n",
    "from urllib.request import Request, urlopen\n",
    "import numpy as np"
   ]
  },
  {
   "cell_type": "markdown",
   "metadata": {},
   "source": [
    "#### 2 - Get All Coins Symbols"
   ]
  },
  {
   "cell_type": "code",
   "execution_count": null,
   "metadata": {},
   "outputs": [],
   "source": [
    "# Handling  API Request and converting output to a df\n",
    "url = \"https://min-api.cryptocompare.com/data/all/coinlist\"\n",
    "headers = {'api_key': 'YOUR-API-KEY'} \n",
    "r = requests.get(url,headers)\n",
    "rt = r.json()\n",
    "df = pd.DataFrame(rt['Data'])\n",
    "df = df.transpose()\n",
    "# extracting Symbols \n",
    "coinsym = df['Symbol'].values.tolist()"
   ]
  },
  {
   "cell_type": "markdown",
   "metadata": {},
   "source": [
    "#### 3 - Create a Function to Get The Prices Data and return it as a Data frame"
   ]
  },
  {
   "cell_type": "code",
   "execution_count": null,
   "metadata": {},
   "outputs": [],
   "source": [
    "# setting default currency to USD with limit to 364 days starting from the first day in 2021\n",
    "def get_price(fsym, tosym='USD', limit=364, toTs=1640908800):\n",
    "    url = \"https://min-api.cryptocompare.com/data/v2/histoday\"\n",
    "    par = {'api_key': 'YOUR-API-KEY','fsym': fsym, 'tsym':tosym, 'limit':limit,'toTs':toTs }\n",
    "    r = requests.get(url,par)\n",
    "    rt = r.json()['Data']['Data']\n",
    "    df = pd.DataFrame(rt)\n",
    "    return df"
   ]
  },
  {
   "cell_type": "markdown",
   "metadata": {},
   "source": [
    "#### 4 - Call the function on a data frame"
   ]
  },
  {
   "cell_type": "code",
   "execution_count": null,
   "metadata": {},
   "outputs": [],
   "source": [
    "dfc = pd.DataFrame(columns = coinsym)\n",
    "for column in dfc:\n",
    "    try:\n",
    "        dfc[column] = get_price(column)['close']\n",
    "    except:\n",
    "        pass\n",
    "    print(column)"
   ]
  },
  {
   "cell_type": "markdown",
   "metadata": {},
   "source": [
    "#### 5 - Drop All empty Columns"
   ]
  },
  {
   "cell_type": "code",
   "execution_count": null,
   "metadata": {},
   "outputs": [],
   "source": [
    "dfc = dfc.dropna(axis='columns')"
   ]
  },
  {
   "cell_type": "markdown",
   "metadata": {},
   "source": [
    "####  6 - Convert Data Frame to CSV file"
   ]
  },
  {
   "cell_type": "code",
   "execution_count": null,
   "metadata": {},
   "outputs": [],
   "source": [
    "dfc.to_csv('Crypto Prices 2021.csv')"
   ]
  }
 ],
 "metadata": {
  "kernelspec": {
   "display_name": "Python 3",
   "language": "python",
   "name": "python3"
  },
  "language_info": {
   "codemirror_mode": {
    "name": "ipython",
    "version": 3
   },
   "file_extension": ".py",
   "mimetype": "text/x-python",
   "name": "python",
   "nbconvert_exporter": "python",
   "pygments_lexer": "ipython3",
   "version": "3.8.5"
  }
 },
 "nbformat": 4,
 "nbformat_minor": 4
}
